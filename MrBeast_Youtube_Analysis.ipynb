{
  "nbformat": 4,
  "nbformat_minor": 0,
  "metadata": {
    "colab": {
      "name": "MrBeast_Youtube_Analysis.ipynb",
      "provenance": []
    },
    "kernelspec": {
      "name": "python3",
      "display_name": "Python 3"
    },
    "language_info": {
      "name": "python"
    }
  },
  "cells": [
    {
      "cell_type": "markdown",
      "source": [
        "## Importing libraries"
      ],
      "metadata": {
        "id": "0AnnAVg1XfJh"
      }
    },
    {
      "cell_type": "code",
      "source": [
        ""
      ],
      "metadata": {
        "id": "poqXVUUnSfyd"
      },
      "execution_count": 1,
      "outputs": []
    },
    {
      "cell_type": "markdown",
      "source": [
        "## Loading the dataset, cleaning & preprocessing"
      ],
      "metadata": {
        "id": "r2FIc-_DXnHo"
      }
    },
    {
      "cell_type": "markdown",
      "source": [
        "#### Uploading the csv file"
      ],
      "metadata": {
        "id": "Z5HFICNcXqwm"
      }
    },
    {
      "cell_type": "code",
      "source": [
        ""
      ],
      "metadata": {
        "id": "4EPjlP69RsF4"
      },
      "execution_count": null,
      "outputs": []
    },
    {
      "cell_type": "code",
      "source": [
        ""
      ],
      "metadata": {
        "id": "SCyVPG23RtdG"
      },
      "execution_count": null,
      "outputs": []
    },
    {
      "cell_type": "markdown",
      "source": [
        "#### Data cleaning and processing"
      ],
      "metadata": {
        "id": "Lu8I5idnX2sw"
      }
    },
    {
      "cell_type": "code",
      "source": [
        "#dataset = dataset.drop(['id','thumbnails.default.url','thumbnails.default.width','thumbnails.default.height','thumbnails.medium.url','thumbnails.medium.width'\n",
        "#                         ,'thumbnails.medium.height','thumbnails.high.url','thumbnails.high.width']) #Aisa ek ek naam daalte daalte clg khul jayega\n",
        "#ye try karo:\n"
      ],
      "metadata": {
        "id": "mANPLf-DX6hQ"
      },
      "execution_count": 1,
      "outputs": []
    },
    {
      "cell_type": "code",
      "source": [
        ""
      ],
      "metadata": {
        "id": "BWuj606MX9MP"
      },
      "execution_count": 1,
      "outputs": []
    },
    {
      "cell_type": "code",
      "source": [
        "#Now we have created a new list of columns, we will replace this with the original columns of the dataset"
      ],
      "metadata": {
        "id": "bIdaZl6bX_SP"
      },
      "execution_count": 3,
      "outputs": []
    },
    {
      "cell_type": "code",
      "source": [
        ""
      ],
      "metadata": {
        "id": "aal1KB8VYBGf"
      },
      "execution_count": 3,
      "outputs": []
    },
    {
      "cell_type": "markdown",
      "source": [
        "#### Dealing with missing values"
      ],
      "metadata": {
        "id": "skx4bsTgcYtz"
      }
    },
    {
      "cell_type": "code",
      "source": [
        ""
      ],
      "metadata": {
        "id": "DvO4XGjYYIHi"
      },
      "execution_count": null,
      "outputs": []
    },
    {
      "cell_type": "markdown",
      "source": [
        "viewCount, likeCount and commentCount contains missing values. Now we can directly just delete these missing values but this might affect our result. So lets replace these values with their respective average values"
      ],
      "metadata": {
        "id": "1ukerSlaccP6"
      }
    },
    {
      "cell_type": "code",
      "source": [
        "#We will use the fillna() function for filling the missing values with a particular value\n"
      ],
      "metadata": {
        "id": "xoueAZ-EciYd"
      },
      "execution_count": 4,
      "outputs": []
    },
    {
      "cell_type": "code",
      "source": [
        ""
      ],
      "metadata": {
        "id": "FkgqXEDacnDQ"
      },
      "execution_count": null,
      "outputs": []
    },
    {
      "cell_type": "markdown",
      "source": [
        "#### Making the Published date more readable"
      ],
      "metadata": {
        "id": "NUbMG4bSco_O"
      }
    },
    {
      "cell_type": "code",
      "source": [
        "dataset.head()"
      ],
      "metadata": {
        "id": "lb2g692SSnsF"
      },
      "execution_count": null,
      "outputs": []
    },
    {
      "cell_type": "code",
      "source": [
        ""
      ],
      "metadata": {
        "id": "ZIcpmZQeYKSp"
      },
      "execution_count": null,
      "outputs": []
    },
    {
      "cell_type": "code",
      "source": [
        ""
      ],
      "metadata": {
        "id": "RIijmLKaYNqK"
      },
      "execution_count": null,
      "outputs": []
    },
    {
      "cell_type": "code",
      "source": [
        ""
      ],
      "metadata": {
        "id": "WxFsOANTYQYp"
      },
      "execution_count": null,
      "outputs": []
    },
    {
      "cell_type": "code",
      "source": [
        ""
      ],
      "metadata": {
        "id": "OA4z4kqNYSpj"
      },
      "execution_count": null,
      "outputs": []
    },
    {
      "cell_type": "markdown",
      "source": [
        "Now we don't need the publishTime column so we shall drop it."
      ],
      "metadata": {
        "id": "Bq4Ik5YmeU8c"
      }
    },
    {
      "cell_type": "code",
      "source": [
        ""
      ],
      "metadata": {
        "id": "BLGC7ExEYWpf"
      },
      "execution_count": null,
      "outputs": []
    },
    {
      "cell_type": "code",
      "source": [
        ""
      ],
      "metadata": {
        "id": "1rXZu_hXYY_m"
      },
      "execution_count": null,
      "outputs": []
    },
    {
      "cell_type": "markdown",
      "source": [
        "#### Changing Datatypes"
      ],
      "metadata": {
        "id": "hJeKJ1V8eYyB"
      }
    },
    {
      "cell_type": "code",
      "source": [
        ""
      ],
      "metadata": {
        "id": "yA2uPcovYau-"
      },
      "execution_count": null,
      "outputs": []
    },
    {
      "cell_type": "code",
      "source": [
        ""
      ],
      "metadata": {
        "id": "0lIWdjM8YdnH"
      },
      "execution_count": null,
      "outputs": []
    },
    {
      "cell_type": "code",
      "source": [
        ""
      ],
      "metadata": {
        "id": "uEF_AAj0Yggo"
      },
      "execution_count": null,
      "outputs": []
    },
    {
      "cell_type": "code",
      "source": [
        ""
      ],
      "metadata": {
        "id": "bEEbuSEYYjSL"
      },
      "execution_count": null,
      "outputs": []
    },
    {
      "cell_type": "markdown",
      "source": [
        "## Exploratory Analysis and visualization"
      ],
      "metadata": {
        "id": "hTVmqxy7eq6B"
      }
    },
    {
      "cell_type": "code",
      "source": [
        ""
      ],
      "metadata": {
        "id": "hmS0ExMEYlrx"
      },
      "execution_count": null,
      "outputs": []
    },
    {
      "cell_type": "markdown",
      "source": [
        "Insights\n",
        "\n",
        "\n",
        "*   On an average the views on all the videos is 5M, Average likes & comments are 1M and 72K respectively.\n",
        "*   The min of year is 2012 and max is 2022 so we can say that we are analyzing the data from 2012-2022\n",
        "\n",
        "anything else you can think about?"
      ],
      "metadata": {
        "id": "SKeqfVVsewOD"
      }
    },
    {
      "cell_type": "code",
      "source": [
        ""
      ],
      "metadata": {
        "id": "5QWpXt06Y3Ij"
      },
      "execution_count": null,
      "outputs": []
    },
    {
      "cell_type": "markdown",
      "source": [
        "whoa thats a lot of views! 😯"
      ],
      "metadata": {
        "id": "Zd3X6lC1e1P6"
      }
    },
    {
      "cell_type": "code",
      "source": [
        "# AvgLikes = dataset.describe()['likeCount']['mean']\n",
        "# AvgViews = dataset.describe()['viewCount']['mean']\n",
        "# AvgComments = dataset.describe()['commentCount']['mean']\n",
        "# print('Average number of views on video = ',AvgViews,'\\nAverage number of likes on video = ',AvgLikes,\n",
        "#      '\\nAverage number of comments on video = ',AvgComments,'\\n')"
      ],
      "metadata": {
        "id": "jFQ_3K0PY6LB"
      },
      "execution_count": null,
      "outputs": []
    },
    {
      "cell_type": "markdown",
      "source": [
        "## Libraries for plotting"
      ],
      "metadata": {
        "id": "OSXAT96ecSLB"
      }
    },
    {
      "cell_type": "code",
      "source": [
        "# # Importing Seaborn library to visualize attractive and informative statistical graphs, it's based on Matplotlib library\n",
        "# import seaborn as sns\n",
        "\n",
        "# # Importing Matplotlib library which is used for static, interactive, animated plotting\n",
        "# import matplotlib\n",
        "\n",
        "# # Importing Pyplot library which is used for 2D plotting\n",
        "# import matplotlib.pyplot as plt"
      ],
      "metadata": {
        "id": "sUuaChmWY81f"
      },
      "execution_count": null,
      "outputs": []
    },
    {
      "cell_type": "markdown",
      "source": [
        "## Most viewed, Least viewed & most reacted"
      ],
      "metadata": {
        "id": "4whdA9_7Wff-"
      }
    },
    {
      "cell_type": "markdown",
      "source": [
        "Lets check the popular uploads!\n",
        "For this we will create a new dataframe containing 10 largest view counts and there respective titles "
      ],
      "metadata": {
        "id": "Z8MK8BbscOJj"
      }
    },
    {
      "cell_type": "code",
      "source": [
        ""
      ],
      "metadata": {
        "id": "31fC6d17ZEsY"
      },
      "execution_count": null,
      "outputs": []
    },
    {
      "cell_type": "code",
      "source": [
        ""
      ],
      "metadata": {
        "id": "h5bllg8XZHUD"
      },
      "execution_count": null,
      "outputs": []
    },
    {
      "cell_type": "markdown",
      "source": [
        "Insights\n",
        "\n",
        "*  \n"
      ],
      "metadata": {
        "id": "2QBeRskjcI_R"
      }
    },
    {
      "cell_type": "markdown",
      "source": [
        "Similarly lets try for least_viewed"
      ],
      "metadata": {
        "id": "h0ITbtBVWx5e"
      }
    },
    {
      "cell_type": "code",
      "source": [
        "# least_viewed = dataset.nsmallest(10,'viewCount')"
      ],
      "metadata": {
        "id": "swI9sFuMZJz4"
      },
      "execution_count": null,
      "outputs": []
    },
    {
      "cell_type": "code",
      "source": [
        "# #least_viewed['views'] = least_viewed['viewCount'] / 1000000\n",
        "# plot = sns.barplot(x=\"viewCount\", y=\"title\", data=least_viewed)\n",
        "# plot.set(xlabel='views in mil', ylabel='')\n",
        "# plot.set_title('least viewed Videos')"
      ],
      "metadata": {
        "id": "J5RI8X-hZL91"
      },
      "execution_count": null,
      "outputs": []
    },
    {
      "cell_type": "markdown",
      "source": [
        "The first video in the above plot is the least viewed video of MrBeast with around 150K views. This is quite surprising because MrBeast has over 5M views in most of its videos.\n",
        "\n",
        "So, these might be some old videos. Lets look at the dates"
      ],
      "metadata": {
        "id": "SZ7KlXV8XAM2"
      }
    },
    {
      "cell_type": "code",
      "source": [
        "# ct = pd.crosstab(least_viewed['title'],least_viewed['Year']) #Crosstab is used to create a simple cross tabulation between two factors/features\n",
        "# ct"
      ],
      "metadata": {
        "id": "ARmfw5goZOpd"
      },
      "execution_count": null,
      "outputs": []
    },
    {
      "cell_type": "markdown",
      "source": [
        "So these videos are pretty old. All the videos are from 2014 & 2015, so this might be the reason that the views are less for these videos"
      ],
      "metadata": {
        "id": "Yo0NCQe6b_el"
      }
    },
    {
      "cell_type": "markdown",
      "source": [
        "Lets do a similar procedure for determining most reacted video (likes+comments)"
      ],
      "metadata": {
        "id": "8HP9Db4Lb-vD"
      }
    },
    {
      "cell_type": "code",
      "source": [
        "# dataset['Reactions'] = dataset['likeCount'] + dataset['commentCount']\n",
        "# most_reacted = dataset.nlargest(10,'Reactions')\n",
        "# most_reacted['millions_react'] = most_reacted['Reactions'] / 1000000"
      ],
      "metadata": {
        "id": "-BsmYSJBZQ6h"
      },
      "execution_count": null,
      "outputs": []
    },
    {
      "cell_type": "code",
      "source": [
        "# #we will use the seaborn library for plotting horizontal barplot\n",
        "# plot = sns.barplot(x=\"millions_react\", y=\"title\", data=most_reacted)\n",
        "# plot.set(xlabel='Millions of Reactions', ylabel='')\n",
        "# plot.set_title('Most Reacted Videos')"
      ],
      "metadata": {
        "id": "tNMtPjbRZTcw"
      },
      "execution_count": null,
      "outputs": []
    },
    {
      "cell_type": "markdown",
      "source": [
        "Insights\n",
        "*   So \"Make this video the most liked video on Youtube\" is the most reacted video of this channel 😆\n",
        "*   Also we can see that not all the most viewed videos are in this list, which means that not all the viewers are reacting on the videos\n",
        "*   All the top 10 videos have reactions starting from about 4.5M which is less than the views on the top 10 videos \n"
      ],
      "metadata": {
        "id": "Wq7fLoiDb5bE"
      }
    },
    {
      "cell_type": "markdown",
      "source": [
        "Let's check how many viewers react on the videos"
      ],
      "metadata": {
        "id": "-2V4aXEFb2zv"
      }
    },
    {
      "cell_type": "code",
      "source": [
        "# pie_var = ['Reactors','Only Viewers']\n",
        "# pie_val = [dataset['Reactions'].sum(),(dataset['viewCount']-dataset['Reactions']).sum()]\n",
        "# plt.pie(pie_val, labels = pie_var, autopct='%1.1f%%',shadow=True)\n",
        "# plt.title('Viewers who react on video')\n",
        "# plt.show()"
      ],
      "metadata": {
        "id": "-35GJEtWZVwm"
      },
      "execution_count": null,
      "outputs": []
    },
    {
      "cell_type": "markdown",
      "source": [
        "From the above pie chart we can say that only **3.2%** of viewers like or comment on the video while **96.8%** don't react on the videos."
      ],
      "metadata": {
        "id": "6HwIJYZ0byva"
      }
    },
    {
      "cell_type": "markdown",
      "source": [
        "## Year-wise stats"
      ],
      "metadata": {
        "id": "b_iEEUmdbt-p"
      }
    },
    {
      "cell_type": "code",
      "source": [
        ""
      ],
      "metadata": {
        "id": "w0MkOgdyZaQK"
      },
      "execution_count": null,
      "outputs": []
    },
    {
      "cell_type": "code",
      "source": [
        ""
      ],
      "metadata": {
        "id": "q6ux-cFnZbB4"
      },
      "execution_count": null,
      "outputs": []
    },
    {
      "cell_type": "markdown",
      "source": [
        "Insights: Mr.Beast uploaded highest number of videos in year and lowest number of videos in year ."
      ],
      "metadata": {
        "id": "_S20W3vbbm4a"
      }
    },
    {
      "cell_type": "markdown",
      "source": [
        "Yearwise total views, likes, dislikes and comments"
      ],
      "metadata": {
        "id": "cq8j1mQXbj-F"
      }
    },
    {
      "cell_type": "code",
      "source": [
        "# dataset.groupby(dataset['Year']).sum() #groupby is used to group large amounts of data and compute operations on these groups."
      ],
      "metadata": {
        "id": "TOWcKxtmZc4u"
      },
      "execution_count": null,
      "outputs": []
    },
    {
      "cell_type": "markdown",
      "source": [
        "we can clearly see that 2019 was by far the best year for this channel with over 4 billion views and 9 million reactions!"
      ],
      "metadata": {
        "id": "-vH7HvWcbgbT"
      }
    },
    {
      "cell_type": "markdown",
      "source": [
        "The question is, has pandemic affected the channel? \n",
        "\n",
        "If we look at the table above we can say that total views are less in 2020 than 2019. But we can also see in the bar plot above that total videos uploaded in 2019 is more than 2020 by almost **40% !** and still the total viewCount in 2020 is more than **3 billion!** this might have happened because the channel may not have uploaded a lot of videos due to the unfavourable conditions and the viewers might have gotten more time to watch the videos because of the quarantine Situation!  "
      ],
      "metadata": {
        "id": "QXoTmtWDbdGr"
      }
    },
    {
      "cell_type": "markdown",
      "source": [
        "**Year-wise statistics using scatter plots**"
      ],
      "metadata": {
        "id": "LMaY4VRGbYyh"
      }
    },
    {
      "cell_type": "code",
      "source": [
        ""
      ],
      "metadata": {
        "id": "goS53kl-Zfm9"
      },
      "execution_count": null,
      "outputs": []
    },
    {
      "cell_type": "markdown",
      "source": [
        "Insights\n",
        "\n",
        "* MrBeast uploaded its most viewed video in the year **''**\n",
        "* Most liked video was uploaded in the year **''**\n",
        "* Most commented video was uploaded in the year **''**"
      ],
      "metadata": {
        "id": "jiv6dEWgbTvv"
      }
    },
    {
      "cell_type": "markdown",
      "source": [
        "## Month-wise stats"
      ],
      "metadata": {
        "id": "Tj0sNOolbQ9c"
      }
    },
    {
      "cell_type": "code",
      "source": [
        "# ct = pd.crosstab(dataset['Month'],dataset['Month'].sum())\n",
        "# ct.plot.bar()\n",
        "# plt.ylabel(\"No. of videos\")"
      ],
      "metadata": {
        "id": "22Pygn0xaD49"
      },
      "execution_count": null,
      "outputs": []
    },
    {
      "cell_type": "code",
      "source": [
        ""
      ],
      "metadata": {
        "id": "6AgEbqLomMQs"
      },
      "execution_count": null,
      "outputs": []
    },
    {
      "cell_type": "markdown",
      "source": [
        "Insights\n",
        "\n",
        "*   Most videos are uploaded in the month of August\n",
        "*   Least videos are uploaded in July\n",
        "\n",
        "*   The videos uploaded in June and December are also more, might be because of the summer vacations and holiday season in the west?"
      ],
      "metadata": {
        "id": "Qi_zaMZXbNfK"
      }
    },
    {
      "cell_type": "code",
      "source": [
        "# dataset.groupby(dataset['Month']).sum()"
      ],
      "metadata": {
        "id": "LZeBF_5jaGyX"
      },
      "execution_count": null,
      "outputs": []
    },
    {
      "cell_type": "markdown",
      "source": [
        "Insights\n",
        "\n",
        "\n",
        "*   Most viewed videos are in August which makes sense because total videos uploaded are more in august\n",
        "*   least views are in July"
      ],
      "metadata": {
        "id": "byKJ3XyTbJHw"
      }
    },
    {
      "cell_type": "markdown",
      "source": [
        "Month-wise stats using scatter plot"
      ],
      "metadata": {
        "id": "BNKLtW5obGRJ"
      }
    },
    {
      "cell_type": "code",
      "source": [
        "# fig, (ax1,ax2,ax3) = plt.subplots(1,3,figsize=(15, 5))\n",
        "# # Month-wise statistics of viewes\n",
        "# sns.scatterplot(x='Month',y='viewCount',data =dataset, ax=ax1)\n",
        "# ax1.set_title('Views',fontsize=12)\n",
        "# # Month-wise statistics of likes\n",
        "# sns.scatterplot(x='Month',y='likeCount',data =dataset,ax=ax2)\n",
        "# ax2.set_title('Likes',fontsize=12)\n",
        "# # Month-wise statistics of Comments\n",
        "# sns.scatterplot(x='Month',y='commentCount',data =dataset,ax=ax3)\n",
        "# ax3.set_title('Comments',fontsize=12)"
      ],
      "metadata": {
        "id": "l0-EEmKcaLt8"
      },
      "execution_count": null,
      "outputs": []
    },
    {
      "cell_type": "markdown",
      "source": [
        "Insights\n",
        "\n",
        "\n",
        "*   MrBeast uploaded its most viewed video in month of ''.\n",
        "*   Most liked video was uploaded in the month of ''.\n",
        "*   Most commented video was uploaded in the month of ''."
      ],
      "metadata": {
        "id": "6r8g1glxbCk2"
      }
    },
    {
      "cell_type": "markdown",
      "source": [
        "## Time of upload analysis"
      ],
      "metadata": {
        "id": "1kkvM2rJa_qm"
      }
    },
    {
      "cell_type": "code",
      "source": [
        "# dataset.head()"
      ],
      "metadata": {
        "id": "821CuAkpaOcP"
      },
      "execution_count": null,
      "outputs": []
    },
    {
      "cell_type": "code",
      "source": [
        "# plt.hist(dataset['Hours'])\n",
        "# plt.xlim([0, 24])\n",
        "# plt.xticks(np.arange(0, 24, 3))\n",
        "# plt.xlabel('Hours')\n",
        "# plt.ylabel('No. of Videos')"
      ],
      "metadata": {
        "id": "UevA-FJ8aRfa"
      },
      "execution_count": null,
      "outputs": []
    },
    {
      "cell_type": "markdown",
      "source": [
        "Insights:\n",
        "\n",
        "\n",
        "*   Most videos are uploaded between 19:00 hrs to 22:00 hrs (i.e 7:00 pm to 10:00 pm)"
      ],
      "metadata": {
        "id": "m7XuKUpma8L3"
      }
    },
    {
      "cell_type": "markdown",
      "source": [
        "## Question & Answers"
      ],
      "metadata": {
        "id": "vzoNrdr6a29d"
      }
    },
    {
      "cell_type": "markdown",
      "source": [
        "Now lets say, I want to know on what day the most viewed video was uploaded?"
      ],
      "metadata": {
        "id": "PQE3G1aYa2G1"
      }
    },
    {
      "cell_type": "code",
      "source": [
        ""
      ],
      "metadata": {
        "id": "_q66dU2TaUFA"
      },
      "execution_count": null,
      "outputs": []
    },
    {
      "cell_type": "code",
      "source": [
        "# #Now for displaying only the date\n",
        "# print(dataset.sort_values(by='viewCount',ascending = False).head(1)['Date'])"
      ],
      "metadata": {
        "id": "3ScbTgFYab5p"
      },
      "execution_count": null,
      "outputs": []
    },
    {
      "cell_type": "markdown",
      "source": [
        "So, from this we understand that the most viewed video was uploaded on 24th November 2021!"
      ],
      "metadata": {
        "id": "6_PADZFxawsv"
      }
    },
    {
      "cell_type": "markdown",
      "source": [
        "We can experiment with more such questions like which are the most recent videos uploaded on this channel, oldest videos, most liked, most commented videos etc by using the the sort_values() function"
      ],
      "metadata": {
        "id": "1wGL-y6Uav38"
      }
    },
    {
      "cell_type": "code",
      "source": [
        "# #5 recent videos\n",
        "# dataset.sort_values(by='Date',ascending = False).head(5)"
      ],
      "metadata": {
        "id": "39ksRCG5aebM"
      },
      "execution_count": null,
      "outputs": []
    },
    {
      "cell_type": "code",
      "source": [
        "# #5 oldest videos\n",
        "# dataset.sort_values(by='viewCount',ascending = True).head(5)"
      ],
      "metadata": {
        "id": "v9DdD465ahPN"
      },
      "execution_count": null,
      "outputs": []
    },
    {
      "cell_type": "markdown",
      "source": [
        "## Conclusion"
      ],
      "metadata": {
        "id": "rvtlLDRrap5G"
      }
    },
    {
      "cell_type": "markdown",
      "source": [
        "Conclusion:\n",
        "This channel was most active in the year 2019. In August and the holiday months in the west (June & December) most videos are uploaded. Most videos are uploaded between 8:00 pm to 10:00 pm. The most viewed and reacted videos are \"$460,000 squid game\" and \"Make this video the most liked video on Youtube\" respectively."
      ],
      "metadata": {
        "id": "LeasuGluao_o"
      }
    }
  ]
}